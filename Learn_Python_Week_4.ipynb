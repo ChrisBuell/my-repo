{
  "nbformat": 4,
  "nbformat_minor": 0,
  "metadata": {
    "colab": {
      "name": "Learn Python Week 4.ipynb",
      "provenance": [],
      "collapsed_sections": [],
      "toc_visible": true,
      "include_colab_link": true
    },
    "kernelspec": {
      "name": "python3",
      "display_name": "Python 3"
    }
  },
  "cells": [
    {
      "cell_type": "markdown",
      "metadata": {
        "id": "view-in-github",
        "colab_type": "text"
      },
      "source": [
        "<a href=\"https://colab.research.google.com/github/ChrisBuell/my-repo/blob/master/Learn_Python_Week_4.ipynb\" target=\"_parent\"><img src=\"https://colab.research.google.com/assets/colab-badge.svg\" alt=\"Open In Colab\"/></a>"
      ]
    },
    {
      "cell_type": "markdown",
      "metadata": {
        "id": "trnbnHHjqLGv",
        "colab_type": "text"
      },
      "source": [
        "# Objects, Classes and Object Oriented Programming\n",
        "\n",
        "> Welcome back!\n",
        "\n",
        "### Overview\n",
        "1. Review of last month's project\n",
        "2. Jupyter Notebook walkthough: concepts and code snippets\n",
        "3. Fill in the blank code snippets\n",
        "4. Project - write code from a specification and test it to ensure functionality\n",
        "\n",
        "\n",
        "A note about Jupyter notebooks: the code cells must be run in order, and the output should appear below.  Any code cell that contains text preceded by a # is a comment, and will not run.  It is intended to provide context.  You may find it useful to insert comments to yourself as you go, so you don't lose track of what you're working on.\n",
        "\n",
        "\n"
      ]
    },
    {
      "cell_type": "markdown",
      "metadata": {
        "colab_type": "text",
        "id": "QatgaWz1GtQY"
      },
      "source": [
        "## Last Month...\n",
        "\n",
        "## Fantasy Game Inventory\n",
        "\n",
        "### From Automate the Boring Stuff with Python, [Chapter 5](https://automatetheboringstuff.com/2e/chapter5/)\n",
        "You are creating a fantasy video game. The data structure to model the player’s inventory will be a dictionary where the keys are string values describing the item in the inventory and the value is an integer value detailing how many of that item the player has. For example:\n",
        "\n",
        "`{'rope': 1, 'torch': 6, 'gold coin': 42, 'dagger': 1, 'arrow': 12}` \n",
        "\n",
        "means the player has 1 rope, 6 torches, 42 gold coins, and so on.\n",
        "\n",
        "Write a function named displayInventory() that would take any possible “inventory” and display it like the following:\n",
        "\n",
        "Inventory:\n",
        "12 arrow\\\n",
        "42 gold coin\\\n",
        "1 rope\\\n",
        "6 torch\\\n",
        "1 dagger\\\n",
        "Total number of items: 62\n",
        "\n",
        "Hint: You can use a for loop to loop through all the keys in a dictionary.  (We aren't worried about the efficiency of accessing the dictionary at this point, we just want to accomplish the task!)\n"
      ]
    },
    {
      "cell_type": "code",
      "metadata": {
        "colab_type": "code",
        "outputId": "044cc555-abe8-4d70-dceb-31cd5e1affd0",
        "id": "jrlfdqSfunkl",
        "colab": {
          "base_uri": "https://localhost:8080/",
          "height": 119
        }
      },
      "source": [
        "\n",
        "test_inventory = {'rope': 1, 'torch': 6, 'gold coin': 42, 'dagger': 1, 'arrow': 12}\n",
        "\n",
        "total_items = 0\n",
        "for key, value in test_inventory.items():\n",
        "    print(\"{}: {}\".format(key, value))\n",
        "    total_items += value\n",
        "\n",
        "print(\"Total number of items: {}\".format(total_items))\n",
        "\n"
      ],
      "execution_count": 0,
      "outputs": [
        {
          "output_type": "stream",
          "text": [
            "rope: 1\n",
            "torch: 6\n",
            "gold coin: 42\n",
            "dagger: 1\n",
            "arrow: 12\n",
            "Total number of items: 62\n"
          ],
          "name": "stdout"
        }
      ]
    },
    {
      "cell_type": "markdown",
      "metadata": {
        "colab_type": "text",
        "id": "DoIRGVhGeGnk"
      },
      "source": [
        "## OOPs??\n",
        "\n",
        " We've covered a lot of ground so far in this series - we've talked about basic data types, conditional statements, functions, and data structures.  Let's bring all of our knowledge together for an example rich discussion of object oriented programming!\n",
        "\n",
        "#### Jargon check\n",
        "**Objects** - collections of data with associated behaviors\\\n",
        "\n",
        "in Python - most things are objects\n",
        "\n",
        "**Object Oriented Programming** - conceptualize a problem, task, or system as an object that we can model, with distinct associated behaviors and attributes\n",
        "\n",
        "**Classes** - a description of the object.  An object is an instance of a class\n",
        "\n",
        "\n",
        "Let's see some examples and work on some code."
      ]
    },
    {
      "cell_type": "code",
      "metadata": {
        "id": "VR6-xmrpeUpD",
        "colab_type": "code",
        "outputId": "fa3e8b5a-92de-4dad-cd5e-10902e8457fd",
        "colab": {
          "base_uri": "https://localhost:8080/",
          "height": 69
        }
      },
      "source": [
        "# Everything is an object in Python. Remember our built in data types - strings, ints, and lists?\n",
        "print(type(\"string\"))\n",
        "print(type(12))\n",
        "print(type({}))"
      ],
      "execution_count": 0,
      "outputs": [
        {
          "output_type": "stream",
          "text": [
            "<class 'str'>\n",
            "<class 'int'>\n",
            "<class 'dict'>\n"
          ],
          "name": "stdout"
        }
      ]
    },
    {
      "cell_type": "markdown",
      "metadata": {
        "id": "qbYrVNkufAxL",
        "colab_type": "text"
      },
      "source": [
        "Remember that there are built in methods associated with the different data types? Any of there data types will work with any object of that type"
      ]
    },
    {
      "cell_type": "code",
      "metadata": {
        "id": "wiC3zt5efirx",
        "colab_type": "code",
        "outputId": "80db2943-f981-4563-ec03-46a0f1c6e510",
        "colab": {
          "base_uri": "https://localhost:8080/",
          "height": 54
        }
      },
      "source": [
        "print(dir(str))"
      ],
      "execution_count": 0,
      "outputs": [
        {
          "output_type": "stream",
          "text": [
            "['__add__', '__class__', '__contains__', '__delattr__', '__dir__', '__doc__', '__eq__', '__format__', '__ge__', '__getattribute__', '__getitem__', '__getnewargs__', '__gt__', '__hash__', '__init__', '__init_subclass__', '__iter__', '__le__', '__len__', '__lt__', '__mod__', '__mul__', '__ne__', '__new__', '__reduce__', '__reduce_ex__', '__repr__', '__rmod__', '__rmul__', '__setattr__', '__sizeof__', '__str__', '__subclasshook__', 'capitalize', 'casefold', 'center', 'count', 'encode', 'endswith', 'expandtabs', 'find', 'format', 'format_map', 'index', 'isalnum', 'isalpha', 'isdecimal', 'isdigit', 'isidentifier', 'islower', 'isnumeric', 'isprintable', 'isspace', 'istitle', 'isupper', 'join', 'ljust', 'lower', 'lstrip', 'maketrans', 'partition', 'replace', 'rfind', 'rindex', 'rjust', 'rpartition', 'rsplit', 'rstrip', 'split', 'splitlines', 'startswith', 'strip', 'swapcase', 'title', 'translate', 'upper', 'zfill']\n"
          ],
          "name": "stdout"
        }
      ]
    },
    {
      "cell_type": "code",
      "metadata": {
        "id": "Ddw3I7haf_A6",
        "colab_type": "code",
        "outputId": "034c3c1f-355f-4b9b-d832-211021f9d511",
        "colab": {
          "base_uri": "https://localhost:8080/",
          "height": 34
        }
      },
      "source": [
        "# Code Challenge!\n",
        "# create an object of the string class and assign it a value\n",
        "# use the appropriate syntax to call a method from the string class on our object and print the result\n"
      ],
      "execution_count": 0,
      "outputs": [
        {
          "output_type": "stream",
          "text": [
            "THIS IS A TEST OF THE STRING CLASS\n"
          ],
          "name": "stdout"
        }
      ]
    },
    {
      "cell_type": "code",
      "metadata": {
        "id": "ERVCE_X_qGVB",
        "colab_type": "code",
        "colab": {}
      },
      "source": [
        "# This is the class called Cat, defined using the `class` keyword and followed by a colon\n",
        "class Cat:\n",
        "  species = 'mamal'\n",
        "\n",
        "  # this magic method initiates a Cat object\n",
        "  # it takes three arguments and then sets the Cat object's attributes as equal to the values passed in\n",
        "  # methods inside of functions act on an object and take that object\n",
        "  # into account because of the self argument\n",
        "  def __init__(self, type, name):\n",
        "    self.type = type\n",
        "    self.name = name\n",
        "\n",
        "meatball = Cat('Ragdoll', 'Meatball')"
      ],
      "execution_count": 0,
      "outputs": []
    },
    {
      "cell_type": "markdown",
      "metadata": {
        "id": "mkNv91Dhn08Z",
        "colab_type": "text"
      },
      "source": [
        "#### A note on self:\n",
        "self is an important argument that tells the Python interpreter to use the set of attributes and methods that apply to our object type.\n",
        "\n",
        "Now, imagine that we want to create a similar class for a different type of animal.  Using the code above as an example, give it a shot!\n",
        "\n"
      ]
    },
    {
      "cell_type": "code",
      "metadata": {
        "id": "6ZsZAOAMlq_C",
        "colab_type": "code",
        "outputId": "0e13482c-89fb-46d6-828e-8940520c5bbe",
        "colab": {
          "base_uri": "https://localhost:8080/",
          "height": 34
        }
      },
      "source": [
        "# Note the syntax here.  We are asking the Python interpreter for the value associated with this \n",
        "# attribute by variable name\n",
        "meatball.name"
      ],
      "execution_count": 0,
      "outputs": [
        {
          "output_type": "execute_result",
          "data": {
            "text/plain": [
              "'Meatball'"
            ]
          },
          "metadata": {
            "tags": []
          },
          "execution_count": 30
        }
      ]
    },
    {
      "cell_type": "code",
      "metadata": {
        "id": "GXFf9UQ3nWvv",
        "colab_type": "code",
        "colab": {}
      },
      "source": [
        "# Coding challenge - create two more cats using the class above.  Then, display the name of one cat, \n",
        "# and the breed of the second cat, using the attribute notation"
      ],
      "execution_count": 0,
      "outputs": []
    },
    {
      "cell_type": "markdown",
      "metadata": {
        "id": "h0GCBT39HT5t",
        "colab_type": "text"
      },
      "source": [
        "## Inheiritance\n",
        " \n",
        "#### Jargon Check\n",
        "**Inheritance** - a relationship between two objects - ex, a dog *is an* animal\n",
        "\n",
        "We can form classes based on classes that have been defined. The derived classes are considered the descendants of the base classes, as they modify the behavior of the base classe. Multiple descendents can inheirit from the same base class, and Python does allow for multiple inheritance, where subclasses have two or more base classes.\n",
        "\n",
        "Derived classes can override methods with a modified implementation, as we can see below.  The Animal class will print \"Animal\" when the who_am_i method is called, while the dog subclass will print \"Dog\".  "
      ]
    },
    {
      "cell_type": "code",
      "metadata": {
        "id": "Jj1mqDmhJj4f",
        "colab_type": "code",
        "colab": {}
      },
      "source": [
        "class Animal:\n",
        "    def __init__(self):\n",
        "        print(\"Animal created\")\n",
        "\n",
        "    def who_am_i(self):\n",
        "        print(\"Animal\")\n",
        "\n",
        "    def eat(self):\n",
        "        print(\"Eating\")\n",
        "\n",
        "\n",
        "class Dog(Animal):\n",
        "    def __init__(self):\n",
        "        # we want to be able to use the constructor of the base class, but we want to \n",
        "        # add subclass specific logic - so, we call the base class __init__ \n",
        "        Animal.__init__(self)\n",
        "        print(\"Dog created\")\n",
        "\n",
        "    def who_am_i(self):\n",
        "        print(\"Dog\")\n",
        "\n",
        "    def bark(self):\n",
        "        print(\"Woof!\")"
      ],
      "execution_count": 0,
      "outputs": []
    },
    {
      "cell_type": "code",
      "metadata": {
        "id": "4RQ47gvwGOGT",
        "colab_type": "code",
        "colab": {}
      },
      "source": [
        "# Code challenge - create an instance of both classes\n"
      ],
      "execution_count": 0,
      "outputs": []
    },
    {
      "cell_type": "markdown",
      "metadata": {
        "id": "KTCbm6UqGSKi",
        "colab_type": "text"
      },
      "source": [
        "#### Concept check: Polymorphism\n",
        "\n",
        "**polymorphism** - the ability to treat a class differently, depending on which subclass is implemented\n",
        "\n",
        "Methods belong to the objects they act on. In Python, different object classes can share the same method name, and those methods can be called from the same place even though a variety of different objects might be passed in. The best way to explain this is by example:"
      ]
    },
    {
      "cell_type": "code",
      "metadata": {
        "id": "kpx5TYTpuciO",
        "colab_type": "code",
        "colab": {}
      },
      "source": [
        "class Dog:\n",
        "    def __init__(self, name):\n",
        "        self.name = name\n",
        "\n",
        "    def speak(self):\n",
        "        return self.name+' says Woof!'\n",
        "    \n",
        "class Cat:\n",
        "    def __init__(self, name):\n",
        "        self.name = name\n",
        "\n",
        "    def speak(self):\n",
        "        return self.name+' says Meow!' \n",
        "    \n",
        "niko = Dog('Niko')\n",
        "felix = Cat('Felix')\n",
        "\n",
        "print(niko.speak())\n",
        "print(felix.speak())"
      ],
      "execution_count": 0,
      "outputs": []
    },
    {
      "cell_type": "markdown",
      "metadata": {
        "id": "X07Wk8TdtTbd",
        "colab_type": "text"
      },
      "source": [
        "This is where the concept of duck typing starts to come into play - if an object acts like it belongs to a particular class, then the python interpreter will treat it as such.  In the example above, if we created new subclasses with different animals, we could modify the speak method to work with those object types, as well.  "
      ]
    },
    {
      "cell_type": "markdown",
      "metadata": {
        "id": "obHpnfL9HKPC",
        "colab_type": "text"
      },
      "source": [
        "#### Concept Check: Abstraction\n",
        "An abstract method is special - in any non-abstract subclass, it must be implemented, but in the declared class, it cannot be specified.  \n",
        "\n",
        "Classes can also be abstract, and not implement any methods at all - rather, they act as blueprints for what the class should do, without providing any functionality.  \n",
        "\n"
      ]
    },
    {
      "cell_type": "code",
      "metadata": {
        "id": "QAyAm04zum42",
        "colab_type": "code",
        "colab": {}
      },
      "source": [
        "class Animal:\n",
        "    def __init__(self, name):    # Constructor of the class\n",
        "        self.name = name\n",
        "\n",
        "    def speak(self):              # Abstract method, defined by convention only\n",
        "        raise NotImplementedError(\"Subclass must implement abstract method\")\n",
        "\n",
        "\n",
        "class Dog(Animal):\n",
        "    \n",
        "    def speak(self):\n",
        "        return self.name+' says Woof!'\n",
        "    \n",
        "class Cat(Animal):\n",
        "\n",
        "    def speak(self):\n",
        "        return self.name+' says Meow!'\n",
        "    \n",
        "fido = Dog('Fido')\n",
        "isis = Cat('Isis')\n",
        "\n",
        "print(fido.speak())\n",
        "print(isis.speak())"
      ],
      "execution_count": 0,
      "outputs": []
    },
    {
      "cell_type": "markdown",
      "metadata": {
        "id": "nOWwg_E5JRGt",
        "colab_type": "text"
      },
      "source": [
        "## Coding Time - Bank Account Class\n",
        "\n",
        "Create a bank account class:\n",
        ">The class has two attributes, owner and balance\n",
        ">The class has two methods, deposit and withdraw\n",
        "> - challenge mode: withdrawls may not overdraft the account!\n",
        "\n",
        "once the class is correct, instantiate it, check the values of the two attributes, make several deposits and withdrawls, and make sure that the functionality is sound.  \n"
      ]
    },
    {
      "cell_type": "code",
      "metadata": {
        "id": "hxZvYvqYvVuL",
        "colab_type": "code",
        "colab": {}
      },
      "source": [
        "class Account:\n",
        "    def __init__(self,owner,balance=0):\n",
        "        self.owner = owner\n",
        "        self.balance = balance\n",
        "        \n",
        "    def __str__(self):\n",
        "        return f'Account owner:   {self.owner}\\nAccount balance: ${self.balance}'\n",
        "        \n",
        "    def deposit(self,dep_amt):\n",
        "        self.balance += dep_amt\n",
        "        print('Deposit Accepted')\n",
        "        \n",
        "    def withdraw(self,wd_amt):\n",
        "        if self.balance >= wd_amt:\n",
        "            self.balance -= wd_amt\n",
        "            print('Withdrawal Accepted')\n",
        "        else:\n",
        "            print('Funds Unavailable!')"
      ],
      "execution_count": 0,
      "outputs": []
    },
    {
      "cell_type": "markdown",
      "metadata": {
        "id": "XIAPP1DJBud5",
        "colab_type": "text"
      },
      "source": [
        "#### Live Coding Example - Let's create classes for a chess program"
      ]
    },
    {
      "cell_type": "markdown",
      "metadata": {
        "colab_type": "text",
        "id": "faLRzGpbzgQ1"
      },
      "source": [
        "#### Discussion time - Group brainstorm\n",
        "\n",
        "With at least one other person, describe a project you are currently working on, or would like to work on, that you could implement using object oriented programming?  Identify the requirements, and the objects you think would be useful.  Take notes or sketch to help facilitate the process as needed.  Identify where your objects will interact with eachother, and which objects may inherit from others."
      ]
    },
    {
      "cell_type": "code",
      "metadata": {
        "id": "NQ7IKRAvBmzz",
        "colab_type": "code",
        "colab": {}
      },
      "source": [
        "# Coding time - using the classes you discussed earlier, try to write some psudocode that implements your classes"
      ],
      "execution_count": 0,
      "outputs": []
    },
    {
      "cell_type": "markdown",
      "metadata": {
        "id": "g5bkF80OrzvB",
        "colab_type": "text"
      },
      "source": [
        "## Project Challenge - Transportation\n",
        "##### Create a transportation class, and as many subclasses as you think are necessary, to describe all of the different transportation options a person has in the city of Austin.  \n",
        "\n",
        "Create attributes and methods for each class, and consider how they fit together.\n"
      ]
    },
    {
      "cell_type": "markdown",
      "metadata": {
        "id": "Q1W5Yb1Lsnov",
        "colab_type": "text"
      },
      "source": [
        "\n",
        "\n",
        "## Next month: Going online with Python\n",
        "\n",
        "from [Python 4 Everybody](http://do1.dr-chuck.com/pythonlearn/EN_us/pythonlearn.pdf), read Chapters 12, 13\n",
        "\n",
        "resources to practice:\n",
        "[MIT OpenCourseWare](https://ocw.mit.edu/courses/electrical-engineering-and-computer-science/6-01sc-introduction-to-electrical-engineering-and-computer-science-i-spring-2011/unit-1-software-engineering/object-oriented-programming/)\n",
        "\n",
        "[Corey Schafer video](https://www.youtube.com/watch?v=ZDa-Z5JzLYM&t=1s)\n",
        "\n"
      ]
    }
  ]
}